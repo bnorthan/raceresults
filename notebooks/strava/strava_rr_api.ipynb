{
 "cells": [
  {
   "cell_type": "markdown",
   "id": "c806cb65",
   "metadata": {},
   "source": [
    "## Testing a simple Strava AP"
   ]
  },
  {
   "cell_type": "code",
   "execution_count": 1,
   "id": "f2e68f37",
   "metadata": {},
   "outputs": [],
   "source": [
    "from scoreware.strava import stravautil"
   ]
  },
  {
   "cell_type": "code",
   "execution_count": 2,
   "id": "cb2d7d2b",
   "metadata": {},
   "outputs": [],
   "source": [
    "client_id, client_secret = stravautil.read_yml_app_data('strava.yml')"
   ]
  },
  {
   "cell_type": "code",
   "execution_count": 3,
   "id": "228b8717",
   "metadata": {},
   "outputs": [
    {
     "name": "stdout",
     "output_type": "stream",
     "text": [
      "77193 0809ff532abda7541d9b324d122c04003b449001\n"
     ]
    }
   ],
   "source": [
    "print(client_id, client_secret)"
   ]
  },
  {
   "cell_type": "code",
   "execution_count": null,
   "id": "dce60f14",
   "metadata": {},
   "outputs": [],
   "source": []
  }
 ],
 "metadata": {
  "kernelspec": {
   "display_name": "Python 3",
   "language": "python",
   "name": "python3"
  },
  "language_info": {
   "codemirror_mode": {
    "name": "ipython",
    "version": 3
   },
   "file_extension": ".py",
   "mimetype": "text/x-python",
   "name": "python",
   "nbconvert_exporter": "python",
   "pygments_lexer": "ipython3",
   "version": "3.8.8"
  }
 },
 "nbformat": 4,
 "nbformat_minor": 5
}
