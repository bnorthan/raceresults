{
 "cells": [
  {
   "cell_type": "markdown",
   "id": "10af3451",
   "metadata": {},
   "source": [
    "## Update Authorization Token"
   ]
  },
  {
   "cell_type": "code",
   "execution_count": 214,
   "id": "7e93ea4d",
   "metadata": {},
   "outputs": [],
   "source": [
    "import yaml\n",
    "\n",
    "with open(\"strava.yml\", 'r') as stream:\n",
    "    data_loaded = yaml.safe_load(stream)\n",
    "\n",
    "client_id=data_loaded['client_id']\n",
    "client_secret=data_loaded['client_secret']"
   ]
  },
  {
   "cell_type": "code",
   "execution_count": 215,
   "id": "8451049b",
   "metadata": {},
   "outputs": [
    {
     "name": "stdout",
     "output_type": "stream",
     "text": [
      "Requesting Token...\n",
      "\n",
      "<Response [200]>\n",
      "Access Token = 02d12297f947f24c75a29a057c17e7e3292d46ca\n",
      "\n"
     ]
    },
    {
     "data": {
      "text/plain": [
       "'\\nheader = {\\'Authorization\\': \\'Bearer \\' + access_token}\\nparam = {\\'per_page\\': 20, \\'page\\': 1}\\nmy_dataset = requests.get(athlete_url, headers=header, params=param).json()\\n\\n\\n#print(my_dataset[0][\"name\"])\\n#print(my_dataset[0][\"map\"][\"summary_polyline\"])\\n\\nprint(my_dataset)\\n'"
      ]
     },
     "execution_count": 215,
     "metadata": {},
     "output_type": "execute_result"
    }
   ],
   "source": [
    "import requests\n",
    "import urllib3\n",
    "urllib3.disable_warnings(urllib3.exceptions.InsecureRequestWarning)\n",
    "\n",
    "# the authorization url\n",
    "auth_url = \"https://www.strava.com/oauth/token\"\n",
    "#activites_url = \"https://www.strava.com/api/v3/athlete/activities\"\n",
    "#athlete_url = \"https://www.strava.com/api/v3/athlete/\"\n",
    "\n",
    "# payload to get rereshed strava authorization token\n",
    "payload = {\n",
    "    'client_id': client_id,\n",
    "    'client_secret': client_secret,\n",
    "    'refresh_token': '90cc6b363aa7fa8d93dcc24dd94fdad1661f5ca5',\n",
    "    'grant_type': \"refresh_token\",\n",
    "    'f': 'json'\n",
    "}\n",
    "\n",
    "# request the token\n",
    "print(\"Requesting Token...\\n\")\n",
    "res = requests.post(auth_url, data=payload, verify=False)\n",
    "print(res)\n",
    "# access token will be embedded in json\n",
    "access_token = res.json()['access_token']\n",
    "print(\"Access Token = {}\\n\".format(access_token))\n",
    "\n",
    "'''\n",
    "header = {'Authorization': 'Bearer ' + access_token}\n",
    "param = {'per_page': 20, 'page': 1}\n",
    "my_dataset = requests.get(athlete_url, headers=header, params=param).json()\n",
    "\n",
    "\n",
    "#print(my_dataset[0][\"name\"])\n",
    "#print(my_dataset[0][\"map\"][\"summary_polyline\"])\n",
    "\n",
    "print(my_dataset)\n",
    "'''"
   ]
  },
  {
   "cell_type": "markdown",
   "id": "c22177f8",
   "metadata": {},
   "source": [
    "# Authorize an athlete\n",
    "\n",
    "This block shows how to get an athlete to aurthorize an app\n",
    "\n",
    "NOTE:  BLOCK WILL NOT RUN UNLESS YOU UPDATE THE 'code' BY POSTING THE AURORIZATION URL INTO A WEB BROWSER"
   ]
  },
  {
   "cell_type": "code",
   "execution_count": 217,
   "id": "f9593010",
   "metadata": {},
   "outputs": [
    {
     "name": "stdout",
     "output_type": "stream",
     "text": [
      "Requesting Token...\n",
      "\n",
      "{'token_type': 'Bearer', 'expires_at': 1643477851, 'expires_in': 17096, 'refresh_token': 'cbaa2eedb6cf4b5a0870db181f487b7729cb830e', 'access_token': '607d495b8d4a72d3ce1ed05fb9e9c5b6fa8dda81', 'athlete': {'id': 35084665, 'username': None, 'resource_state': 2, 'firstname': 'Brian', 'lastname': 'Northan', 'bio': None, 'city': None, 'state': None, 'country': None, 'sex': 'M', 'premium': False, 'summit': False, 'created_at': '2018-09-22T23:16:50Z', 'updated_at': '2021-02-20T23:05:42Z', 'badge_type_id': 0, 'weight': 0.0, 'profile_medium': 'https://graph.facebook.com/10152354161655867/picture?height=256&width=256', 'profile': 'https://graph.facebook.com/10152354161655867/picture?height=256&width=256', 'friend': None, 'follower': None}}\n",
      "Access Token = 607d495b8d4a72d3ce1ed05fb9e9c5b6fa8dda81\n",
      "\n"
     ]
    }
   ],
   "source": [
    "# see https://groups.google.com/g/strava-api/c/XbQJrQOm9Dg\n",
    "\n",
    "# put this in browser to get authorization code for all activities \n",
    "# https://www.strava.com/oauth/authorize?redirect_uri=http://localhost:5744/&response_type=code&scope=read,read_all,activity:read,activity:read_all,profile:read_all&client_id=77193\n",
    "\n",
    "# payload to get authorization code from athlete\n",
    "payload = {\n",
    "    'client_id': client_id,\n",
    "    'client_secret': client_secret,\n",
    "    ####### UPDATE THE CODE BELOW BY FOLLOWING INSTRUCTION AT TOP OF BLOCK\n",
    "    'code': 'f560aa3f690a2a066a27e7ca8653847a42b5fc29',\n",
    "    'grant_type': \"authorization_code\",\n",
    "    'f': 'json'\n",
    "}\n",
    "\n",
    "print(\"Requesting Token...\\n\")\n",
    "res = requests.post(auth_url, data=payload, verify=False)\n",
    "print(res.json())\n",
    "access_token = res.json()['access_token']\n",
    "print(\"Access Token = {}\\n\".format(access_token))"
   ]
  },
  {
   "cell_type": "markdown",
   "id": "caaa9155",
   "metadata": {},
   "source": [
    "## Get an Athlete"
   ]
  },
  {
   "cell_type": "code",
   "execution_count": 191,
   "id": "b414cd32",
   "metadata": {},
   "outputs": [
    {
     "name": "stdout",
     "output_type": "stream",
     "text": [
      "{'id': 35084665, 'username': None, 'resource_state': 3, 'firstname': 'Brian', 'lastname': 'Northan', 'bio': None, 'city': None, 'state': None, 'country': None, 'sex': 'M', 'premium': False, 'summit': False, 'created_at': '2018-09-22T23:16:50Z', 'updated_at': '2021-02-20T23:05:42Z', 'badge_type_id': 0, 'weight': 0.0, 'profile_medium': 'https://graph.facebook.com/10152354161655867/picture?height=256&width=256', 'profile': 'https://graph.facebook.com/10152354161655867/picture?height=256&width=256', 'friend': None, 'follower': None, 'blocked': False, 'can_follow': True, 'follower_count': 90, 'friend_count': 66, 'mutual_friend_count': 0, 'athlete_type': 1, 'date_preference': '%m/%d/%Y', 'measurement_preference': 'feet', 'clubs': [{'id': 35283, 'resource_state': 2, 'name': 'Hudson Mohawk Road Runners Club', 'profile_medium': 'https://dgalywyr863hv.cloudfront.net/pictures/clubs/35283/996650/2/medium.jpg', 'profile': 'https://dgalywyr863hv.cloudfront.net/pictures/clubs/35283/996650/2/large.jpg', 'cover_photo': None, 'cover_photo_small': None, 'activity_types': ['Run', 'VirtualRun', 'Wheelchair'], 'activity_types_icon': 'sports_run_normal', 'dimensions': ['distance', 'num_activities', 'best_activities_distance', 'elev_gain', 'moving_time', 'velocity'], 'sport_type': 'running', 'city': 'Albany', 'state': 'New York', 'country': 'United States', 'private': False, 'member_count': 0, 'featured': False, 'verified': False, 'url': 'HMRRC', 'membership': 'member', 'admin': False, 'owner': False}], 'ftp': None, 'bikes': [], 'shoes': []}\n"
     ]
    }
   ],
   "source": [
    "header = {'Authorization': 'Bearer ' + access_token}\n",
    "param = {'per_page': 20, 'page': 1, 'segment_id':18901378}\n",
    "\n",
    "_url = \"https://www.strava.com/api/v3/athlete/\"\n",
    "my_dataset = requests.get(_url, headers=header, params=param).json()\n",
    "\n",
    "print(my_dataset)"
   ]
  },
  {
   "cell_type": "markdown",
   "id": "c27cec89",
   "metadata": {},
   "source": [
    "## Get an Activity"
   ]
  },
  {
   "cell_type": "code",
   "execution_count": 201,
   "id": "419d8d40",
   "metadata": {},
   "outputs": [
    {
     "name": "stdout",
     "output_type": "stream",
     "text": [
      "{'resource_state': 3, 'athlete': {'id': 35084665, 'resource_state': 1}, 'name': 'Evening Run', 'distance': 5368.3, 'moving_time': 1760, 'elapsed_time': 1760, 'total_elevation_gain': 335.9, 'type': 'Run', 'workout_type': None, 'id': 5163528751, 'start_date': '2021-04-20T22:07:01Z', 'start_date_local': '2021-04-20T18:07:01Z', 'timezone': '(GMT-05:00) America/New_York', 'utc_offset': -14400.0, 'location_city': None, 'location_state': None, 'location_country': None, 'achievement_count': 3, 'kudos_count': 8, 'comment_count': 0, 'athlete_count': 1, 'photo_count': 0, 'map': {'id': 'a5163528751', 'polyline': 'utccGnenbMb@dANRzAdApAfA`@^PTfEnE`CrBrDvDpCtBb@h@r@n@`@VNBrBIlADb@D`@Rd@Ld@QRONEFn@GpADt@d@xC?p@En@Mr@Md@k@v@q@j@QHKP]^c@RkA^sBXgAViA^kARqBh@m@JkE~@uANmA^c@TaAn@_CjB_An@a@Va@PkC~Ac@LuCvAiAVMJh@?d@If@FJf@a@Va@P_@^gA|B[f@e@`A]d@e@Rc@Le@De@@wBVqAH[@cC`@oAJu@Lg@@cAHg@Jc@VaAr@qAZUNm@b@{@x@c@V]Xi@R_@Za@R]^SH]TQPu@f@e@Tg@Je@Dc@Le@V[b@On@KfBUdBSbA_@fAy@jBSl@?v@_@nCKn@]`AIJg@`@[b@cBh@wEZc@@i@FiA^a@^Yd@_Ar@iAxBgAbBWl@a@~A[hBGp@?vCDp@l@tFJdDPhCHb@Vb@^ZX?hAWt@Wx@IhAQjAWlAQtC_@`@A', 'resource_state': 3, 'summary_polyline': 'utccGnenbMb@dANRzAdApAfA`@^PTfEnE`CrBrDvDpCtBb@h@r@n@`@VNBrBIlADb@D`@Rd@Ld@QRONEFn@GpADt@d@xC?p@En@Mr@Md@k@v@q@j@QHKP]^c@RkA^sBXgAViA^kARqBh@m@JkE~@uANmA^c@TaAn@_CjB_An@a@Va@PkC~Ac@LuCvAiAVMJh@?d@If@FJf@a@Va@P_@^gA|B[f@e@`A]d@e@Rc@Le@De@@wBVqAH[@cC`@oAJu@Lg@@cAHg@Jc@VaAr@qAZUNm@b@{@x@c@V]Xi@R_@Za@R]^SH]TQPu@f@e@Tg@Je@Dc@Le@V[b@On@KfBUdBSbA_@fAy@jBSl@?v@_@nCKn@]`AIJg@`@[b@cBh@wEZc@@i@FiA^a@^Yd@_Ar@iAxBgAbBWl@a@~A[hBGp@?vCDp@l@tFJdDPhCHb@Vb@^ZX?hAWt@Wx@IhAQjAWlAQtC_@`@A'}, 'trainer': False, 'commute': False, 'manual': False, 'private': False, 'visibility': 'everyone', 'flagged': False, 'gear_id': None, 'start_latlng': [42.622359, -73.969671], 'end_latlng': [42.635491, -73.999898], 'start_latitude': 42.622359, 'start_longitude': -73.999898, 'average_speed': 3.05, 'max_speed': 4.7, 'average_cadence': 80.3, 'has_heartrate': True, 'average_heartrate': 148.2, 'max_heartrate': 179.0, 'heartrate_opt_out': False, 'display_hide_heartrate_option': True, 'elev_high': 479.9, 'elev_low': 136.1, 'upload_id': 5503168503, 'upload_id_str': '5503168503', 'external_id': 'garmin_push_6643178903', 'from_accepted_tag': False, 'pr_count': 1, 'total_photo_count': 0, 'has_kudoed': False, 'description': None, 'calories': 371.0, 'perceived_exertion': None, 'prefer_perceived_exertion': None, 'segment_efforts': [{'id': 2819727069121287512, 'resource_state': 2, 'name': 'Old Road climb', 'activity': {'id': 5163528751, 'resource_state': 1}, 'athlete': {'id': 35084665, 'resource_state': 1}, 'elapsed_time': 316, 'moving_time': 313, 'start_date': '2021-04-20T22:07:01Z', 'start_date_local': '2021-04-20T18:07:01Z', 'distance': 922.1, 'start_index': 0, 'end_index': 66, 'average_cadence': 81.6, 'device_watts': False, 'average_heartrate': 130.2, 'max_heartrate': 162.0, 'segment': {'id': 8831709, 'resource_state': 2, 'name': 'Old Road climb', 'activity_type': 'Run', 'distance': 922.1, 'average_grade': 10.4, 'maximum_grade': 16.3, 'elevation_high': 228.9, 'elevation_low': 132.6, 'start_latlng': [42.622493, -73.96934], 'end_latlng': [42.615596, -73.974927], 'elevation_profile': None, 'start_latitude': 42.622493, 'start_longitude': -73.96934, 'end_latitude': 42.615596, 'end_longitude': -73.974927, 'climb_category': 1, 'city': 'Voorheesville', 'state': 'New York', 'country': 'United States', 'private': False, 'hazardous': False, 'starred': False}, 'pr_rank': None, 'achievements': [{'type_id': 2, 'type': 'overall', 'rank': 8}], 'hidden': False}, {'id': 2819727069123316056, 'resource_state': 2, 'name': 'Thacher climb', 'activity': {'id': 5163528751, 'resource_state': 1}, 'athlete': {'id': 35084665, 'resource_state': 1}, 'elapsed_time': 1737, 'moving_time': 1730, 'start_date': '2021-04-20T22:07:12Z', 'start_date_local': '2021-04-20T18:07:12Z', 'distance': 5292.4, 'start_index': 4, 'end_index': 312, 'average_cadence': 80.3, 'device_watts': False, 'average_heartrate': 148.4, 'max_heartrate': 179.0, 'segment': {'id': 18901378, 'resource_state': 2, 'name': 'Thacher climb', 'activity_type': 'Run', 'distance': 5292.4, 'average_grade': 6.4, 'maximum_grade': 19.9, 'elevation_high': 479.8, 'elevation_low': 138.6, 'start_latlng': [42.622162, -73.969946], 'end_latlng': [42.635924, -73.999824], 'elevation_profile': None, 'start_latitude': 42.622162, 'start_longitude': -73.969946, 'end_latitude': 42.635924, 'end_longitude': -73.999824, 'climb_category': 3, 'city': 'Voorheesville', 'state': 'New York', 'country': 'United States', 'private': False, 'hazardous': False, 'starred': False}, 'pr_rank': None, 'achievements': [{'type_id': 2, 'type': 'overall', 'rank': 8}], 'hidden': False}, {'id': 2819727069123694936, 'resource_state': 2, 'name': 'Pinnacle Road Hill Climb', 'activity': {'id': 5163528751, 'resource_state': 1}, 'athlete': {'id': 35084665, 'resource_state': 1}, 'elapsed_time': 142, 'moving_time': 142, 'start_date': '2021-04-20T22:33:59Z', 'start_date_local': '2021-04-20T18:33:59Z', 'distance': 375.5, 'start_index': 296, 'end_index': 314, 'average_cadence': 78.6, 'device_watts': False, 'average_heartrate': 170.7, 'max_heartrate': 173.0, 'segment': {'id': 11387202, 'resource_state': 2, 'name': 'Pinnacle Road Hill Climb', 'activity_type': 'Run', 'distance': 375.5, 'average_grade': 13.4, 'maximum_grade': 17.4, 'elevation_high': 483.6, 'elevation_low': 433.4, 'start_latlng': [42.638693, -74.000648], 'end_latlng': [42.635389, -73.999845], 'elevation_profile': None, 'start_latitude': 42.638693, 'start_longitude': -74.000648, 'end_latitude': 42.635389, 'end_longitude': -73.999845, 'climb_category': 0, 'city': None, 'state': None, 'country': None, 'private': False, 'hazardous': False, 'starred': False}, 'pr_rank': 1, 'achievements': [{'type_id': 3, 'type': 'pr', 'rank': 1}], 'hidden': False}], 'splits_metric': [{'distance': 1003.1, 'elapsed_time': 355, 'elevation_difference': 97.9, 'moving_time': 355, 'split': 1, 'average_speed': 2.83, 'average_grade_adjusted_speed': 4.12, 'average_heartrate': 130.1054131054131, 'pace_zone': 0}, {'distance': 1005.6, 'elapsed_time': 315, 'elevation_difference': 41.6, 'moving_time': 315, 'split': 2, 'average_speed': 3.19, 'average_grade_adjusted_speed': 3.68, 'average_heartrate': 133.87301587301587, 'pace_zone': 0}, {'distance': 995.5, 'elapsed_time': 300, 'elevation_difference': 49.0, 'moving_time': 300, 'split': 3, 'average_speed': 3.32, 'average_grade_adjusted_speed': 3.93, 'average_heartrate': 141.65551839464882, 'pace_zone': 0}, {'distance': 1007.5, 'elapsed_time': 351, 'elevation_difference': 81.1, 'moving_time': 351, 'split': 4, 'average_speed': 2.87, 'average_grade_adjusted_speed': 3.95, 'average_heartrate': 158.68481375358166, 'pace_zone': 0}, {'distance': 1002.8, 'elapsed_time': 297, 'elevation_difference': 26.5, 'moving_time': 297, 'split': 5, 'average_speed': 3.38, 'average_grade_adjusted_speed': 3.76, 'average_heartrate': 168.45791245791247, 'pace_zone': 0}, {'distance': 353.8, 'elapsed_time': 142, 'elevation_difference': 47.7, 'moving_time': 142, 'split': 6, 'average_speed': 2.49, 'average_grade_adjusted_speed': 4.28, 'average_heartrate': 170.66901408450704, 'pace_zone': 0}], 'splits_standard': [{'distance': 1609.5, 'elapsed_time': 537, 'elevation_difference': 121.5, 'moving_time': 537, 'split': 1, 'average_speed': 3.0, 'average_grade_adjusted_speed': 4.0, 'average_heartrate': 130.65290806754223, 'pace_zone': 0}, {'distance': 1610.2, 'elapsed_time': 503, 'elevation_difference': 83.5, 'moving_time': 503, 'split': 2, 'average_speed': 3.2, 'average_grade_adjusted_speed': 3.87, 'average_heartrate': 143.10557768924303, 'pace_zone': 0}, {'distance': 1611.3, 'elapsed_time': 527, 'elevation_difference': 88.5, 'moving_time': 527, 'split': 3, 'average_speed': 3.06, 'average_grade_adjusted_speed': 3.8, 'average_heartrate': 162.8761904761905, 'pace_zone': 0}, {'distance': 537.3, 'elapsed_time': 193, 'elevation_difference': 50.3, 'moving_time': 193, 'split': 4, 'average_speed': 2.78, 'average_grade_adjusted_speed': 4.22, 'average_heartrate': 170.22279792746113, 'pace_zone': 0}], 'laps': [{'id': 16836774521, 'resource_state': 2, 'name': 'Lap 1', 'activity': {'id': 5163528751, 'resource_state': 1}, 'athlete': {'id': 35084665, 'resource_state': 1}, 'elapsed_time': 537, 'moving_time': 537, 'start_date': '2021-04-20T22:07:01Z', 'start_date_local': '2021-04-20T18:07:01Z', 'distance': 1609.34, 'start_index': 0, 'end_index': 108, 'total_elevation_gain': 156.0, 'average_speed': 3.0, 'max_speed': 4.0, 'average_cadence': 81.3, 'device_watts': False, 'average_heartrate': 130.7, 'max_heartrate': 162.0, 'lap_index': 1, 'split': 1, 'pace_zone': 0}, {'id': 16836774525, 'resource_state': 2, 'name': 'Lap 2', 'activity': {'id': 5163528751, 'resource_state': 1}, 'athlete': {'id': 35084665, 'resource_state': 1}, 'elapsed_time': 502, 'moving_time': 502, 'start_date': '2021-04-20T22:16:04Z', 'start_date_local': '2021-04-20T18:16:04Z', 'distance': 1609.34, 'start_index': 109, 'end_index': 194, 'total_elevation_gain': 122.0, 'average_speed': 3.21, 'max_speed': 4.3, 'average_cadence': 80.1, 'device_watts': False, 'average_heartrate': 143.2, 'max_heartrate': 165.0, 'lap_index': 2, 'split': 2, 'pace_zone': 0}, {'id': 16836774528, 'resource_state': 2, 'name': 'Lap 3', 'activity': {'id': 5163528751, 'resource_state': 1}, 'athlete': {'id': 35084665, 'resource_state': 1}, 'elapsed_time': 526, 'moving_time': 526, 'start_date': '2021-04-20T22:24:30Z', 'start_date_local': '2021-04-20T18:24:30Z', 'distance': 1609.34, 'start_index': 195, 'end_index': 287, 'total_elevation_gain': 166.0, 'average_speed': 3.06, 'max_speed': 4.7, 'average_cadence': 79.7, 'device_watts': False, 'average_heartrate': 162.9, 'max_heartrate': 179.0, 'lap_index': 3, 'split': 3, 'pace_zone': 0}, {'id': 16836774530, 'resource_state': 2, 'name': 'Lap 4', 'activity': {'id': 5163528751, 'resource_state': 1}, 'athlete': {'id': 35084665, 'resource_state': 1}, 'elapsed_time': 193, 'moving_time': 193, 'start_date': '2021-04-20T22:33:14Z', 'start_date_local': '2021-04-20T18:33:14Z', 'distance': 540.3, 'start_index': 288, 'end_index': 314, 'total_elevation_gain': 48.0, 'average_speed': 2.8, 'max_speed': 3.9, 'average_cadence': 79.7, 'device_watts': False, 'average_heartrate': 170.3, 'max_heartrate': 173.0, 'lap_index': 4, 'split': 4, 'pace_zone': 0}], 'best_efforts': [{'id': 10861752181, 'resource_state': 2, 'name': '400m', 'activity': {'id': 5163528751, 'resource_state': 1}, 'athlete': {'id': 35084665, 'resource_state': 1}, 'elapsed_time': 108, 'moving_time': 109, 'start_date': '2021-04-20T22:30:57Z', 'start_date_local': '2021-04-20T18:30:57Z', 'distance': 400, 'start_index': 264, 'end_index': 283, 'pr_rank': None, 'achievements': []}, {'id': 10861752193, 'resource_state': 2, 'name': '1/2 mile', 'activity': {'id': 5163528751, 'resource_state': 1}, 'athlete': {'id': 35084665, 'resource_state': 1}, 'elapsed_time': 228, 'moving_time': 229, 'start_date': '2021-04-20T22:29:52Z', 'start_date_local': '2021-04-20T18:29:52Z', 'distance': 805, 'start_index': 255, 'end_index': 293, 'pr_rank': None, 'achievements': []}, {'id': 10861752202, 'resource_state': 2, 'name': '1k', 'activity': {'id': 5163528751, 'resource_state': 1}, 'athlete': {'id': 35084665, 'resource_state': 1}, 'elapsed_time': 294, 'moving_time': 295, 'start_date': '2021-04-20T22:29:28Z', 'start_date_local': '2021-04-20T18:29:28Z', 'distance': 1000, 'start_index': 251, 'end_index': 299, 'pr_rank': None, 'achievements': []}, {'id': 10861752214, 'resource_state': 2, 'name': '1 mile', 'activity': {'id': 5163528751, 'resource_state': 1}, 'athlete': {'id': 35084665, 'resource_state': 1}, 'elapsed_time': 493, 'moving_time': 494, 'start_date': '2021-04-20T22:13:59Z', 'start_date_local': '2021-04-20T18:13:59Z', 'distance': 1609, 'start_index': 86, 'end_index': 170, 'pr_rank': None, 'achievements': []}, {'id': 10861752227, 'resource_state': 2, 'name': '2 mile', 'activity': {'id': 5163528751, 'resource_state': 1}, 'athlete': {'id': 35084665, 'resource_state': 1}, 'elapsed_time': 1024, 'moving_time': 1025, 'start_date': '2021-04-20T22:16:36Z', 'start_date_local': '2021-04-20T18:16:36Z', 'distance': 3219, 'start_index': 114, 'end_index': 293, 'pr_rank': None, 'achievements': []}, {'id': 10861752240, 'resource_state': 2, 'name': '5k', 'activity': {'id': 5163528751, 'resource_state': 1}, 'athlete': {'id': 35084665, 'resource_state': 1}, 'elapsed_time': 1612, 'moving_time': 1613, 'start_date': '2021-04-20T22:07:11Z', 'start_date_local': '2021-04-20T18:07:11Z', 'distance': 5000, 'start_index': 3, 'end_index': 297, 'pr_rank': None, 'achievements': []}], 'photos': {'primary': None, 'count': 0}, 'stats_visibility': [{'type': 'heart_rate', 'visibility': 'everyone'}, {'type': 'pace', 'visibility': 'everyone'}, {'type': 'power', 'visibility': 'everyone'}, {'type': 'speed', 'visibility': 'everyone'}, {'type': 'calories', 'visibility': 'everyone'}], 'hide_from_home': False, 'device_name': 'Garmin Forerunner 235', 'embed_token': '5433cae438772accb598339ea999c5b6c31def64', 'private_note': None, 'similar_activities': {'effort_count': 3, 'average_speed': 3.013578376283524, 'min_average_speed': 2.992805408620329, 'mid_average_speed': 3.0212155983397806, 'max_average_speed': 3.050170343572443, 'pr_rank': 1, 'frequency_milestone': None, 'trend': {'speeds': [2.992805408620329, 3.0212155983397806, 3.0135428437889664], 'current_activity_index': 1, 'min_speed': 2.992805408620329, 'mid_speed': 3.0212155983397806, 'max_speed': 3.050170343572443, 'direction': 0}, 'resource_state': 2}, 'available_zones': []}\n"
     ]
    }
   ],
   "source": [
    "header = {'Authorization': 'Bearer ' + access_token}\n",
    "param = {'per_page': 20, 'page': 1, 'segment_id':18901378}\n",
    "\n",
    "# all activities\n",
    "_url = \"https://www.strava.com/api/v3/athlete/activities\"\n",
    "# specific activity\n",
    "#_url=\"https://www.strava.com/api/v3/activities/6226919392\"\n",
    "_url=\"https://www.strava.com/api/v3/activities/5163528751/\"\n",
    "\n",
    "my_dataset = requests.get(_url, headers=header, params=param).json()\n",
    "\n",
    "print(my_dataset)"
   ]
  },
  {
   "cell_type": "markdown",
   "id": "7ebed035",
   "metadata": {},
   "source": [
    "Segments in Activity"
   ]
  },
  {
   "cell_type": "code",
   "execution_count": 202,
   "id": "f6e9a07c",
   "metadata": {},
   "outputs": [
    {
     "name": "stdout",
     "output_type": "stream",
     "text": [
      "Old Road climb 0.5734452736318408\n",
      "Thacher climb 3.291293532338308\n",
      "Pinnacle Road Hill Climb 0.23351990049751245\n"
     ]
    }
   ],
   "source": [
    "for segment in my_dataset['segment_efforts']:\n",
    "    print(segment['name'],segment['distance']/1608)\n",
    "\n",
    "#my_dataset['segment_efforts'][2]['name']"
   ]
  },
  {
   "cell_type": "markdown",
   "id": "28ae3a65",
   "metadata": {},
   "source": [
    "## Get Splits from Activity"
   ]
  },
  {
   "cell_type": "code",
   "execution_count": 206,
   "id": "1d709fc8",
   "metadata": {},
   "outputs": [
    {
     "name": "stdout",
     "output_type": "stream",
     "text": [
      "split 1 8:57\n",
      "split 2 8:23\n",
      "split 3 8:47\n",
      "split 4 3:13\n"
     ]
    }
   ],
   "source": [
    "splits=my_dataset['splits_standard']\n",
    "\n",
    "import math\n",
    "i=1\n",
    "for split in splits:\n",
    "    minutes=math.floor(split['elapsed_time']/60)\n",
    "    seconds=split['elapsed_time']%60\n",
    "    print('split',i,str(minutes)+':'+str(seconds))\n",
    "    i=i+1"
   ]
  },
  {
   "cell_type": "markdown",
   "id": "2e5265fd",
   "metadata": {},
   "source": [
    "## Get Segments (need to pay??)"
   ]
  },
  {
   "cell_type": "code",
   "execution_count": 198,
   "id": "d6570a75",
   "metadata": {},
   "outputs": [
    {
     "name": "stdout",
     "output_type": "stream",
     "text": [
      "{'message': 'Payment Required', 'errors': []}\n"
     ]
    }
   ],
   "source": [
    "header = {'Authorization': 'Bearer ' + access_token}\n",
    "param = {'per_page': 20, 'page': 1, 'segment_id':18901378}\n",
    "\n",
    "_url = \"https://www.strava.com/api/v3/segment_efforts/\"\n",
    "\n",
    "my_dataset = requests.get(_url, headers=header, params=param).json()\n",
    "\n",
    "print(my_dataset)"
   ]
  },
  {
   "cell_type": "code",
   "execution_count": 221,
   "id": "2a5f6fae",
   "metadata": {},
   "outputs": [
    {
     "name": "stdout",
     "output_type": "stream",
     "text": [
      "<class 'list'>\n",
      "20\n"
     ]
    }
   ],
   "source": [
    "# get all activities\n",
    "header = {'Authorization': 'Bearer ' + access_token}\n",
    "param = {'per_page': 20, 'page': 1, 'segment_id':18901378}\n",
    "\n",
    "_url = \"https://www.strava.com/api/v3/athlete/activities\"\n",
    "\n",
    "my_dataset = requests.get(_url, headers=header, params=param).json()\n",
    "\n",
    "print(type(my_dataset))\n",
    "\n",
    "print(len(my_dataset))"
   ]
  },
  {
   "cell_type": "code",
   "execution_count": 225,
   "id": "be730304",
   "metadata": {},
   "outputs": [
    {
     "name": "stdout",
     "output_type": "stream",
     "text": [
      "workout 1 was a Workout\n",
      "workout 2 was a Workout\n",
      "workout 3 was a Workout\n",
      "workout 4 was a Workout\n",
      "workout 5 was a Workout\n",
      "workout 6 was a Workout\n",
      "workout 7 was a Run\n",
      "workout 8 was a Workout\n",
      "workout 9 was a NordicSki\n",
      "workout 10 was a Workout\n",
      "workout 11 was a NordicSki\n",
      "workout 12 was a Workout\n",
      "workout 13 was a Workout\n",
      "workout 14 was a Workout\n",
      "workout 15 was a NordicSki\n",
      "workout 16 was a Workout\n",
      "workout 17 was a NordicSki\n",
      "workout 18 was a Run\n",
      "workout 19 was a Workout\n",
      "workout 20 was a Workout\n"
     ]
    }
   ],
   "source": [
    "i=1\n",
    "for data in my_dataset:\n",
    "    print('workout',i,'was a',data['type'])\n",
    "    i=i+1"
   ]
  },
  {
   "cell_type": "code",
   "execution_count": 223,
   "id": "54667195",
   "metadata": {},
   "outputs": [
    {
     "name": "stdout",
     "output_type": "stream",
     "text": [
      "resource_state\n",
      "athlete\n",
      "name\n",
      "distance\n",
      "moving_time\n",
      "elapsed_time\n",
      "total_elevation_gain\n",
      "type\n",
      "id\n",
      "start_date\n",
      "start_date_local\n",
      "timezone\n",
      "utc_offset\n",
      "location_city\n",
      "location_state\n",
      "location_country\n",
      "achievement_count\n",
      "kudos_count\n",
      "comment_count\n",
      "athlete_count\n",
      "photo_count\n",
      "map\n",
      "trainer\n",
      "commute\n",
      "manual\n",
      "private\n",
      "visibility\n",
      "flagged\n",
      "gear_id\n",
      "start_latlng\n",
      "end_latlng\n",
      "start_latitude\n",
      "start_longitude\n",
      "average_speed\n",
      "max_speed\n",
      "average_cadence\n",
      "has_heartrate\n",
      "average_heartrate\n",
      "max_heartrate\n",
      "heartrate_opt_out\n",
      "display_hide_heartrate_option\n",
      "elev_high\n",
      "elev_low\n",
      "upload_id\n",
      "upload_id_str\n",
      "external_id\n",
      "from_accepted_tag\n",
      "pr_count\n",
      "total_photo_count\n",
      "has_kudoed\n"
     ]
    }
   ],
   "source": [
    "for key in my_dataset[0]:\n",
    "    print(key)"
   ]
  },
  {
   "cell_type": "code",
   "execution_count": 148,
   "id": "257cd58c",
   "metadata": {},
   "outputs": [
    {
     "data": {
      "text/plain": [
       "dict"
      ]
     },
     "execution_count": 148,
     "metadata": {},
     "output_type": "execute_result"
    }
   ],
   "source": [
    "type(my_dataset[0]['map'])"
   ]
  },
  {
   "cell_type": "code",
   "execution_count": 149,
   "id": "a9565383",
   "metadata": {},
   "outputs": [
    {
     "name": "stdout",
     "output_type": "stream",
     "text": [
      "id\n",
      "summary_polyline\n",
      "resource_state\n"
     ]
    }
   ],
   "source": [
    "for key in my_dataset[0]['map']:\n",
    "    print(key)"
   ]
  },
  {
   "cell_type": "code",
   "execution_count": 150,
   "id": "ca9cd82f",
   "metadata": {},
   "outputs": [],
   "source": [
    "test=my_dataset[0]['map']['summary_polyline']"
   ]
  },
  {
   "cell_type": "code",
   "execution_count": 152,
   "id": "621596b9",
   "metadata": {},
   "outputs": [
    {
     "data": {
      "text/plain": [
       "'mvrcGjrebME^u@fB[x@c@x@_@d@c@ZE?[AUOgA_Co@iASs@Gs@Im@Wy@w@W}@f@O?qAa@SYMYb@gB\\\\q@Ci@Ia@kA{Ds@iBgAyCQm@w@cDs@eBa@q@gAOyA`@oAv@o@fBCVB`@l@z@f@VTVNXHZ@VKxBD|@f@~BRvCHb@Zz@VvBd@pBZ^XRjBx@tBhARHp@`@lA`A`@Ph@Fr@EzA_@xA@vAR\\\\BtAr@HzA~@xArAh@|A]nB[|AKZFt@~AJfA?\\\\EFMF]C}@Ju@TUDwBF{ALuANQXD\\\\B@D@LGf@q@TUNGbBOd@AfAOjBe@p@Dp@Pp@l@XFb@?dBQ|A[dCs@`@Oz@e@RWNk@TyBj@eEj@kBz@qAPa@H]D[O}BYw@}@}@yACqAu@}AJ_BBcEVaA?w@W{Bi@yA?i@HcA{@OI[IiC[aAc@c@c@e@cAqAyDm@mBw@{CQg@aAeE}@uB_EoIw@qAi@WEBQRCJd@lBz@dArA~Bb@b@^Vb@p@fCdDl@xCfA`EtB`HXr@\\\\b@nAf@|APv@BdAbAi@nBcAxAu@h@k@V?BbAy@fAiA\\\\y@P}ACEy@k@iAI}ASqA_Aa@_AyCgJi@mB}@gEQWw@i@_A_BoA_AwC_G@aB^CXPHJxA`CpBhEvAjDf@|A\\\\xA^pBjCtIx@|BdAfAXHvD\\\\THNJb@n@NBd@Mj@I\\\\@TD~DfAfB@hAUdAMjACf@@`AEr@Lx@f@vAD`@ZPd@H`@NfBAn@Gf@w@`Bs@fA]lA_AvGI\\\\o@bBeAl@_AZcAXyAVsARyAMe@W]]i@I_ABoAb@}AL}ADqAh@e@f@Si@Za@vASlAK`BM`@?b@IxA_@`AB?Mc@oBM[SOQI{ADuDj@kA@y@{@}@wAIa@Go@IQSKq@M_BGyAKgAT}APsAm@cA}@}Am@oAm@sAw@mA_Ai@wAM{AOcAm@gBUeDi@uBGeB@aBCOIOcAsASQMWFgB~@mArAo@xAMxAJx@xAp@jB^zBf@nBfBnFXlAL^RfACp@I\\\\IN_@d@IRARB^N`@vA^P@tAc@V?PHd@v@Hj@JnAnBzEh@PjA}@f@}@Tk@~@yC'"
      ]
     },
     "execution_count": 152,
     "metadata": {},
     "output_type": "execute_result"
    }
   ],
   "source": [
    "test"
   ]
  },
  {
   "cell_type": "code",
   "execution_count": 157,
   "id": "01449a01",
   "metadata": {},
   "outputs": [],
   "source": [
    "import polyline"
   ]
  },
  {
   "cell_type": "code",
   "execution_count": 159,
   "id": "5b2ca937",
   "metadata": {},
   "outputs": [],
   "source": [
    "test2=polyline.decode(test)"
   ]
  },
  {
   "cell_type": "code",
   "execution_count": 160,
   "id": "72acb84a",
   "metadata": {},
   "outputs": [
    {
     "data": {
      "text/plain": [
       "331"
      ]
     },
     "execution_count": 160,
     "metadata": {},
     "output_type": "execute_result"
    }
   ],
   "source": [
    "len(test2)"
   ]
  },
  {
   "cell_type": "code",
   "execution_count": 163,
   "id": "7114afde",
   "metadata": {},
   "outputs": [
    {
     "name": "stdout",
     "output_type": "stream",
     "text": [
      "Collecting geopandas\n",
      "  Downloading geopandas-0.10.2-py2.py3-none-any.whl (1.0 MB)\n",
      "\u001b[K     |████████████████████████████████| 1.0 MB 1.9 MB/s eta 0:00:01\n",
      "\u001b[?25hCollecting shapely>=1.6\n",
      "  Downloading Shapely-1.8.0-cp38-cp38-manylinux_2_5_x86_64.manylinux1_x86_64.whl (1.1 MB)\n",
      "\u001b[K     |████████████████████████████████| 1.1 MB 7.8 MB/s eta 0:00:01\n",
      "\u001b[?25hCollecting fiona>=1.8\n",
      "  Downloading Fiona-1.8.20-cp38-cp38-manylinux_2_5_x86_64.manylinux1_x86_64.whl (15.4 MB)\n",
      "\u001b[K     |████████████████████████████████| 15.4 MB 8.6 MB/s eta 0:00:01\n",
      "\u001b[?25hRequirement already satisfied: pandas>=0.25.0 in /home/bnorthan/anaconda3/lib/python3.8/site-packages (from geopandas) (1.2.4)\n",
      "Collecting pyproj>=2.2.0\n",
      "  Downloading pyproj-3.3.0-cp38-cp38-manylinux_2_12_x86_64.manylinux2010_x86_64.whl (5.8 MB)\n",
      "\u001b[K     |████████████████████████████████| 5.8 MB 6.3 MB/s eta 0:00:01\n",
      "\u001b[?25hRequirement already satisfied: attrs>=17 in /home/bnorthan/anaconda3/lib/python3.8/site-packages (from fiona>=1.8->geopandas) (20.3.0)\n",
      "Requirement already satisfied: certifi in /home/bnorthan/anaconda3/lib/python3.8/site-packages (from fiona>=1.8->geopandas) (2020.12.5)\n",
      "Requirement already satisfied: setuptools in /home/bnorthan/anaconda3/lib/python3.8/site-packages (from fiona>=1.8->geopandas) (52.0.0.post20210125)\n",
      "Collecting click-plugins>=1.0\n",
      "  Downloading click_plugins-1.1.1-py2.py3-none-any.whl (7.5 kB)\n",
      "Collecting cligj>=0.5\n",
      "  Downloading cligj-0.7.2-py3-none-any.whl (7.1 kB)\n",
      "Collecting munch\n",
      "  Downloading munch-2.5.0-py2.py3-none-any.whl (10 kB)\n",
      "Requirement already satisfied: six>=1.7 in /home/bnorthan/anaconda3/lib/python3.8/site-packages (from fiona>=1.8->geopandas) (1.15.0)\n",
      "Requirement already satisfied: click>=4.0 in /home/bnorthan/anaconda3/lib/python3.8/site-packages (from fiona>=1.8->geopandas) (7.1.2)\n",
      "Requirement already satisfied: python-dateutil>=2.7.3 in /home/bnorthan/anaconda3/lib/python3.8/site-packages (from pandas>=0.25.0->geopandas) (2.8.1)\n",
      "Requirement already satisfied: pytz>=2017.3 in /home/bnorthan/anaconda3/lib/python3.8/site-packages (from pandas>=0.25.0->geopandas) (2021.1)\n",
      "Requirement already satisfied: numpy>=1.16.5 in /home/bnorthan/anaconda3/lib/python3.8/site-packages (from pandas>=0.25.0->geopandas) (1.20.1)\n",
      "Installing collected packages: munch, cligj, click-plugins, shapely, pyproj, fiona, geopandas\n",
      "Successfully installed click-plugins-1.1.1 cligj-0.7.2 fiona-1.8.20 geopandas-0.10.2 munch-2.5.0 pyproj-3.3.0 shapely-1.8.0\n",
      "Note: you may need to restart the kernel to use updated packages.\n"
     ]
    }
   ],
   "source": [
    "pip install geopandas"
   ]
  },
  {
   "cell_type": "code",
   "execution_count": 169,
   "id": "00cfb6f1",
   "metadata": {},
   "outputs": [],
   "source": [
    "import pandas as pd\n",
    "\n",
    "df = pd.DataFrame(test2, columns=['long','lat'])"
   ]
  },
  {
   "cell_type": "code",
   "execution_count": 171,
   "id": "80bad627",
   "metadata": {},
   "outputs": [
    {
     "name": "stdout",
     "output_type": "stream",
     "text": [
      "Help on function plot_dataframe in module geopandas.plotting:\n",
      "\n",
      "plot_dataframe(df, column=None, cmap=None, color=None, ax=None, cax=None, categorical=False, legend=False, scheme=None, k=5, vmin=None, vmax=None, markersize=None, figsize=None, legend_kwds=None, categories=None, classification_kwds=None, missing_kwds=None, aspect='auto', **style_kwds)\n",
      "    Plot a GeoDataFrame.\n",
      "    \n",
      "    Generate a plot of a GeoDataFrame with matplotlib.  If a\n",
      "    column is specified, the plot coloring will be based on values\n",
      "    in that column.\n",
      "    \n",
      "    Parameters\n",
      "    ----------\n",
      "    column : str, np.array, pd.Series (default None)\n",
      "        The name of the dataframe column, np.array, or pd.Series to be plotted.\n",
      "        If np.array or pd.Series are used then it must have same length as\n",
      "        dataframe. Values are used to color the plot. Ignored if `color` is\n",
      "        also set.\n",
      "    kind: str\n",
      "        The kind of plots to produce:\n",
      "         - 'geo': Map (default)\n",
      "         Pandas Kinds\n",
      "         - 'line' : line plot\n",
      "         - 'bar' : vertical bar plot\n",
      "         - 'barh' : horizontal bar plot\n",
      "         - 'hist' : histogram\n",
      "         - 'box' : BoxPlot\n",
      "         - 'kde' : Kernel Density Estimation plot\n",
      "         - 'density' : same as 'kde'\n",
      "         - 'area' : area plot\n",
      "         - 'pie' : pie plot\n",
      "         - 'scatter' : scatter plot\n",
      "         - 'hexbin' : hexbin plot.\n",
      "    cmap : str (default None)\n",
      "        The name of a colormap recognized by matplotlib.\n",
      "    color : str (default None)\n",
      "        If specified, all objects will be colored uniformly.\n",
      "    ax : matplotlib.pyplot.Artist (default None)\n",
      "        axes on which to draw the plot\n",
      "    cax : matplotlib.pyplot Artist (default None)\n",
      "        axes on which to draw the legend in case of color map.\n",
      "    categorical : bool (default False)\n",
      "        If False, cmap will reflect numerical values of the\n",
      "        column being plotted.  For non-numerical columns, this\n",
      "        will be set to True.\n",
      "    legend : bool (default False)\n",
      "        Plot a legend. Ignored if no `column` is given, or if `color` is given.\n",
      "    scheme : str (default None)\n",
      "        Name of a choropleth classification scheme (requires mapclassify).\n",
      "        A mapclassify.MapClassifier object will be used\n",
      "        under the hood. Supported are all schemes provided by mapclassify (e.g.\n",
      "        'BoxPlot', 'EqualInterval', 'FisherJenks', 'FisherJenksSampled',\n",
      "        'HeadTailBreaks', 'JenksCaspall', 'JenksCaspallForced',\n",
      "        'JenksCaspallSampled', 'MaxP', 'MaximumBreaks',\n",
      "        'NaturalBreaks', 'Quantiles', 'Percentiles', 'StdMean',\n",
      "        'UserDefined'). Arguments can be passed in classification_kwds.\n",
      "    k : int (default 5)\n",
      "        Number of classes (ignored if scheme is None)\n",
      "    vmin : None or float (default None)\n",
      "        Minimum value of cmap. If None, the minimum data value\n",
      "        in the column to be plotted is used.\n",
      "    vmax : None or float (default None)\n",
      "        Maximum value of cmap. If None, the maximum data value\n",
      "        in the column to be plotted is used.\n",
      "    markersize : str or float or sequence (default None)\n",
      "        Only applies to point geometries within a frame.\n",
      "        If a str, will use the values in the column of the frame specified\n",
      "        by markersize to set the size of markers. Otherwise can be a value\n",
      "        to apply to all points, or a sequence of the same length as the\n",
      "        number of points.\n",
      "    figsize : tuple of integers (default None)\n",
      "        Size of the resulting matplotlib.figure.Figure. If the argument\n",
      "        axes is given explicitly, figsize is ignored.\n",
      "    legend_kwds : dict (default None)\n",
      "        Keyword arguments to pass to matplotlib.pyplot.legend() or\n",
      "        matplotlib.pyplot.colorbar().\n",
      "        Additional accepted keywords when `scheme` is specified:\n",
      "    \n",
      "        fmt : string\n",
      "            A formatting specification for the bin edges of the classes in the\n",
      "            legend. For example, to have no decimals: ``{\"fmt\": \"{:.0f}\"}``.\n",
      "        labels : list-like\n",
      "            A list of legend labels to override the auto-generated labels.\n",
      "            Needs to have the same number of elements as the number of\n",
      "            classes (`k`).\n",
      "        interval : boolean (default False)\n",
      "            An option to control brackets from mapclassify legend.\n",
      "            If True, open/closed interval brackets are shown in the legend.\n",
      "    categories : list-like\n",
      "        Ordered list-like object of categories to be used for categorical plot.\n",
      "    classification_kwds : dict (default None)\n",
      "        Keyword arguments to pass to mapclassify\n",
      "    missing_kwds : dict (default None)\n",
      "        Keyword arguments specifying color options (as style_kwds)\n",
      "        to be passed on to geometries with missing values in addition to\n",
      "        or overwriting other style kwds. If None, geometries with missing\n",
      "        values are not plotted.\n",
      "    aspect : 'auto', 'equal', None or float (default 'auto')\n",
      "        Set aspect of axis. If 'auto', the default aspect for map plots is 'equal'; if\n",
      "        however data are not projected (coordinates are long/lat), the aspect is by\n",
      "        default set to 1/cos(df_y * pi/180) with df_y the y coordinate of the middle of\n",
      "        the GeoDataFrame (the mean of the y range of bounding box) so that a long/lat\n",
      "        square appears square in the middle of the plot. This implies an\n",
      "        Equirectangular projection. If None, the aspect of `ax` won't be changed. It can\n",
      "        also be set manually (float) as the ratio of y-unit to x-unit.\n",
      "    \n",
      "    **style_kwds : dict\n",
      "        Style options to be passed on to the actual plot function, such\n",
      "        as ``edgecolor``, ``facecolor``, ``linewidth``, ``markersize``,\n",
      "        ``alpha``.\n",
      "    \n",
      "    Returns\n",
      "    -------\n",
      "    ax : matplotlib axes instance\n",
      "    \n",
      "    Examples\n",
      "    --------\n",
      "    >>> df = geopandas.read_file(geopandas.datasets.get_path(\"naturalearth_lowres\"))\n",
      "    >>> df.head()  # doctest: +SKIP\n",
      "        pop_est      continent                      name iso_a3  gdp_md_est                                           geometry\n",
      "    0     920938        Oceania                      Fiji    FJI      8374.0  MULTIPOLYGON (((180.00000 -16.06713, 180.00000...\n",
      "    1   53950935         Africa                  Tanzania    TZA    150600.0  POLYGON ((33.90371 -0.95000, 34.07262 -1.05982...\n",
      "    2     603253         Africa                 W. Sahara    ESH       906.5  POLYGON ((-8.66559 27.65643, -8.66512 27.58948...\n",
      "    3   35623680  North America                    Canada    CAN   1674000.0  MULTIPOLYGON (((-122.84000 49.00000, -122.9742...\n",
      "    4  326625791  North America  United States of America    USA  18560000.0  MULTIPOLYGON (((-122.84000 49.00000, -120.0000...\n",
      "    \n",
      "    >>> df.plot(\"pop_est\", cmap=\"Blues\")  # doctest: +SKIP\n",
      "    \n",
      "    See the User Guide page :doc:`../../user_guide/mapping` for details.\n",
      "\n"
     ]
    }
   ],
   "source": [
    "help(gpd.plotting.plot_dataframe)"
   ]
  },
  {
   "cell_type": "code",
   "execution_count": 174,
   "id": "ee75f844",
   "metadata": {},
   "outputs": [
    {
     "data": {
      "text/html": [
       "<div>\n",
       "<style scoped>\n",
       "    .dataframe tbody tr th:only-of-type {\n",
       "        vertical-align: middle;\n",
       "    }\n",
       "\n",
       "    .dataframe tbody tr th {\n",
       "        vertical-align: top;\n",
       "    }\n",
       "\n",
       "    .dataframe thead th {\n",
       "        text-align: right;\n",
       "    }\n",
       "</style>\n",
       "<table border=\"1\" class=\"dataframe\">\n",
       "  <thead>\n",
       "    <tr style=\"text-align: right;\">\n",
       "      <th></th>\n",
       "      <th>long</th>\n",
       "      <th>lat</th>\n",
       "    </tr>\n",
       "  </thead>\n",
       "  <tbody>\n",
       "    <tr>\n",
       "      <th>0</th>\n",
       "      <td>42.69943</td>\n",
       "      <td>-73.92566</td>\n",
       "    </tr>\n",
       "    <tr>\n",
       "      <th>1</th>\n",
       "      <td>42.69946</td>\n",
       "      <td>-73.92582</td>\n",
       "    </tr>\n",
       "    <tr>\n",
       "      <th>2</th>\n",
       "      <td>42.69973</td>\n",
       "      <td>-73.92634</td>\n",
       "    </tr>\n",
       "    <tr>\n",
       "      <th>3</th>\n",
       "      <td>42.69987</td>\n",
       "      <td>-73.92663</td>\n",
       "    </tr>\n",
       "    <tr>\n",
       "      <th>4</th>\n",
       "      <td>42.70005</td>\n",
       "      <td>-73.92692</td>\n",
       "    </tr>\n",
       "  </tbody>\n",
       "</table>\n",
       "</div>"
      ],
      "text/plain": [
       "       long       lat\n",
       "0  42.69943 -73.92566\n",
       "1  42.69946 -73.92582\n",
       "2  42.69973 -73.92634\n",
       "3  42.69987 -73.92663\n",
       "4  42.70005 -73.92692"
      ]
     },
     "execution_count": 174,
     "metadata": {},
     "output_type": "execute_result"
    }
   ],
   "source": [
    "df.head()"
   ]
  },
  {
   "cell_type": "code",
   "execution_count": 175,
   "id": "404d7884",
   "metadata": {},
   "outputs": [],
   "source": [
    "from shapely.geometry import Point"
   ]
  },
  {
   "cell_type": "code",
   "execution_count": 183,
   "id": "fa681b8b",
   "metadata": {},
   "outputs": [],
   "source": [
    "geometry=[Point(xy) for xy in zip(df['lat'],df['long'])]"
   ]
  },
  {
   "cell_type": "code",
   "execution_count": 184,
   "id": "024b33ef",
   "metadata": {},
   "outputs": [
    {
     "name": "stderr",
     "output_type": "stream",
     "text": [
      "/home/bnorthan/anaconda3/lib/python3.8/site-packages/pyproj/crs/crs.py:131: FutureWarning: '+init=<authority>:<code>' syntax is deprecated. '<authority>:<code>' is the preferred initialization method. When making the change, be mindful of axis order changes: https://pyproj4.github.io/pyproj/stable/gotchas.html#axis-order-changes-in-proj-6\n",
      "  in_crs_string = _prepare_from_proj_string(in_crs_string)\n"
     ]
    }
   ],
   "source": [
    "crs={'init': 'epsg:4326'}\n",
    "geo_df=gpd.GeoDataFrame(df, crs=crs, geometry=geometry)"
   ]
  },
  {
   "cell_type": "code",
   "execution_count": 186,
   "id": "fa496ae6",
   "metadata": {
    "scrolled": true
   },
   "outputs": [
    {
     "data": {
      "text/plain": [
       "<AxesSubplot:>"
      ]
     },
     "execution_count": 186,
     "metadata": {},
     "output_type": "execute_result"
    },
    {
     "data": {
      "image/png": "[encoded data removed]",
      "text/plain": [
       "<Figure size 720x576 with 1 Axes>"
      ]
     },
     "metadata": {
      "needs_background": "light"
     },
     "output_type": "display_data"
    }
   ],
   "source": [
    "gpd.plotting.plot_dataframe(geo_df,figsize=(10,8))"
   ]
  },
  {
   "cell_type": "code",
   "execution_count": null,
   "id": "2fe639bd",
   "metadata": {},
   "outputs": [],
   "source": [
    "gpd.plotting."
   ]
  }
 ],
 "metadata": {
  "kernelspec": {
   "display_name": "Python 3",
   "language": "python",
   "name": "python3"
  },
  "language_info": {
   "codemirror_mode": {
    "name": "ipython",
    "version": 3
   },
   "file_extension": ".py",
   "mimetype": "text/x-python",
   "name": "python",
   "nbconvert_exporter": "python",
   "pygments_lexer": "ipython3",
   "version": "3.8.8"
  }
 },
 "nbformat": 4,
 "nbformat_minor": 5
}
